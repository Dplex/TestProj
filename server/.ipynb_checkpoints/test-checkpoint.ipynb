{
 "cells": [
  {
   "cell_type": "code",
   "execution_count": null,
   "metadata": {
    "collapsed": true
   },
   "outputs": [],
   "source": [
    "import difflib"
   ]
  },
  {
   "cell_type": "code",
   "execution_count": null,
   "metadata": {
    "collapsed": true
   },
   "outputs": [],
   "source": [
    "s = difflib.get_close_matches(\"아맥스\", [\"신세계 씨티 플래티늄 아시아나 카드\", \"신세계 씨티 리워드\", \"씨티 리워드 카드\", \"이마트 Platinum카드\", \"이마트신용카드\", \"현대카드T3 Edition2 (대한항공)\", \"SK텔레콤-현대카드L\", \"삼성아멕스블루카드\", \"삼성아멕스골드카드\", \"코스트코 삼성카드\", \"THE O SFC(아시아나)\", \"삼성카드 2 V2\", \"삼성카드 3 V2\", \"삼성카드 4\", \"삼성카드 taptap O\", \"삼성카드 5 V2\", \"THE 1 (스카이패스)\", \"롯데아멕스블루\", \"삼성카드 BIZ 4 V2\", \"SC은행 삼성카드 4 V2\", \"삼성카드 & BASIC\"], n=10, cutoff=0.33)"
   ]
  },
  {
   "cell_type": "code",
   "execution_count": null,
   "metadata": {
    "collapsed": true
   },
   "outputs": [],
   "source": [
    "dfsf"
   ]
  }
 ],
 "metadata": {
  "anaconda-cloud": {},
  "kernelspec": {
   "display_name": "Python [conda root]",
   "language": "python",
   "name": "conda-root-py"
  }
 },
 "nbformat": 4,
 "nbformat_minor": 0
}
